{
 "cells": [
  {
   "cell_type": "markdown",
   "metadata": {},
   "source": [
    "# Application Work Sample, Unacast Summer Internship 2019"
   ]
  },
  {
   "cell_type": "code",
   "execution_count": 1,
   "metadata": {},
   "outputs": [],
   "source": [
    "import os\n",
    "os.environ['GOOGLE_APPLICATION_CREDENTIALS'] = '/Users/Oda/google_service_account_key.json'\n",
    "\n",
    "%load_ext google.cloud.bigquery\n",
    "%matplotlib inline"
   ]
  },
  {
   "cell_type": "markdown",
   "metadata": {},
   "source": [
    "## 1. What day of week has the most rides in 2014?"
   ]
  },
  {
   "cell_type": "code",
   "execution_count": 129,
   "metadata": {},
   "outputs": [
    {
     "data": {
      "text/html": [
       "<div>\n",
       "<style scoped>\n",
       "    .dataframe tbody tr th:only-of-type {\n",
       "        vertical-align: middle;\n",
       "    }\n",
       "\n",
       "    .dataframe tbody tr th {\n",
       "        vertical-align: top;\n",
       "    }\n",
       "\n",
       "    .dataframe thead th {\n",
       "        text-align: right;\n",
       "    }\n",
       "</style>\n",
       "<table border=\"1\" class=\"dataframe\">\n",
       "  <thead>\n",
       "    <tr style=\"text-align: right;\">\n",
       "      <th></th>\n",
       "      <th>weekday</th>\n",
       "      <th>count</th>\n",
       "    </tr>\n",
       "  </thead>\n",
       "  <tbody>\n",
       "    <tr>\n",
       "      <th>0</th>\n",
       "      <td>Saturday</td>\n",
       "      <td>25395046</td>\n",
       "    </tr>\n",
       "    <tr>\n",
       "      <th>1</th>\n",
       "      <td>Friday</td>\n",
       "      <td>24908598</td>\n",
       "    </tr>\n",
       "    <tr>\n",
       "      <th>2</th>\n",
       "      <td>Wednesday</td>\n",
       "      <td>24199625</td>\n",
       "    </tr>\n",
       "    <tr>\n",
       "      <th>3</th>\n",
       "      <td>Thursday</td>\n",
       "      <td>24118335</td>\n",
       "    </tr>\n",
       "    <tr>\n",
       "      <th>4</th>\n",
       "      <td>Tuesday</td>\n",
       "      <td>22880639</td>\n",
       "    </tr>\n",
       "    <tr>\n",
       "      <th>5</th>\n",
       "      <td>Sunday</td>\n",
       "      <td>22352100</td>\n",
       "    </tr>\n",
       "    <tr>\n",
       "      <th>6</th>\n",
       "      <td>Monday</td>\n",
       "      <td>21260018</td>\n",
       "    </tr>\n",
       "  </tbody>\n",
       "</table>\n",
       "</div>"
      ],
      "text/plain": [
       "     weekday     count\n",
       "0   Saturday  25395046\n",
       "1     Friday  24908598\n",
       "2  Wednesday  24199625\n",
       "3   Thursday  24118335\n",
       "4    Tuesday  22880639\n",
       "5     Sunday  22352100\n",
       "6     Monday  21260018"
      ]
     },
     "execution_count": 129,
     "metadata": {},
     "output_type": "execute_result"
    }
   ],
   "source": [
    "%%bigquery weekday_counts\n",
    "\n",
    "SELECT FORMAT_DATE('%A', DATE(pickup_datetime)) AS weekday,\n",
    "       COUNT(*) AS count\n",
    "FROM   `bigquery-public-data.new_york.tlc_yellow_trips_2014`\n",
    "GROUP  BY weekday\n",
    "ORDER  BY count DESC"
   ]
  },
  {
   "cell_type": "markdown",
   "metadata": {},
   "source": [
    "The results tell us that **Saturday** is the day of the week with most rides in 2014. We can visualize the data with a simple bar plot:"
   ]
  },
  {
   "cell_type": "code",
   "execution_count": 258,
   "metadata": {
    "scrolled": false
   },
   "outputs": [
    {
     "data": {
      "image/png": "[encoded data removed]",
      "text/plain": [
       "<Figure size 1080x504 with 1 Axes>"
      ]
     },
     "metadata": {},
     "output_type": "display_data"
    }
   ],
   "source": [
    "ax = weekday_counts.plot(kind='bar', x='weekday', y='count', figsize=(15,7), legend=False, rot=0)\n",
    "ax.yaxis.get_major_formatter().set_useMathText(True)\n",
    "ax.yaxis.offsetText.set_fontsize(16)\n",
    "ax.tick_params(labelsize='16', pad=5)\n",
    "\n",
    "ax.set_title('Trips by Weekday, NYC Yellow Taxis, 2014', y=1.02, size=20)\n",
    "ax.set_xlabel('')\n",
    "ax.set_ylabel('Count', labelpad=15, size=18);"
   ]
  },
  {
   "cell_type": "markdown",
   "metadata": {},
   "source": [
    "## 2. How has the ratio of payments in cash and by credit card developed over time?"
   ]
  },
  {
   "cell_type": "markdown",
   "metadata": {},
   "source": [
    "We'll be looking at all the available yellow taxi trip records – datasets from 2009 and onwards. Since we're only interested in the relationship between the two payment types, I'm also including this year's dataset (2018). Although there is only data available for the first half of the year, it seems reasonable to assume that the reported data is complete, so that the payment type ratio will be representative. \n",
    "\n",
    "The payment type is listed in the `payment_type` column in all datasets. Let's have a quick look at how the payment types are specified."
   ]
  },
  {
   "cell_type": "code",
   "execution_count": 270,
   "metadata": {
    "scrolled": false
   },
   "outputs": [
    {
     "data": {
      "text/html": [
       "<div>\n",
       "<style scoped>\n",
       "    .dataframe tbody tr th:only-of-type {\n",
       "        vertical-align: middle;\n",
       "    }\n",
       "\n",
       "    .dataframe tbody tr th {\n",
       "        vertical-align: top;\n",
       "    }\n",
       "\n",
       "    .dataframe thead th {\n",
       "        text-align: right;\n",
       "    }\n",
       "</style>\n",
       "<table border=\"1\" class=\"dataframe\">\n",
       "  <thead>\n",
       "    <tr style=\"text-align: right;\">\n",
       "      <th></th>\n",
       "      <th>payment_type</th>\n",
       "    </tr>\n",
       "  </thead>\n",
       "  <tbody>\n",
       "    <tr>\n",
       "      <th>0</th>\n",
       "      <td>1</td>\n",
       "    </tr>\n",
       "    <tr>\n",
       "      <th>1</th>\n",
       "      <td>2</td>\n",
       "    </tr>\n",
       "    <tr>\n",
       "      <th>2</th>\n",
       "      <td>3</td>\n",
       "    </tr>\n",
       "    <tr>\n",
       "      <th>3</th>\n",
       "      <td>4</td>\n",
       "    </tr>\n",
       "    <tr>\n",
       "      <th>4</th>\n",
       "      <td>5</td>\n",
       "    </tr>\n",
       "    <tr>\n",
       "      <th>5</th>\n",
       "      <td>CAS</td>\n",
       "    </tr>\n",
       "    <tr>\n",
       "      <th>6</th>\n",
       "      <td>Cas</td>\n",
       "    </tr>\n",
       "    <tr>\n",
       "      <th>7</th>\n",
       "      <td>CASH</td>\n",
       "    </tr>\n",
       "    <tr>\n",
       "      <th>8</th>\n",
       "      <td>Cash</td>\n",
       "    </tr>\n",
       "    <tr>\n",
       "      <th>9</th>\n",
       "      <td>CRD</td>\n",
       "    </tr>\n",
       "    <tr>\n",
       "      <th>10</th>\n",
       "      <td>CRE</td>\n",
       "    </tr>\n",
       "    <tr>\n",
       "      <th>11</th>\n",
       "      <td>Cre</td>\n",
       "    </tr>\n",
       "    <tr>\n",
       "      <th>12</th>\n",
       "      <td>Credit</td>\n",
       "    </tr>\n",
       "    <tr>\n",
       "      <th>13</th>\n",
       "      <td>CREDIT</td>\n",
       "    </tr>\n",
       "    <tr>\n",
       "      <th>14</th>\n",
       "      <td>CSH</td>\n",
       "    </tr>\n",
       "    <tr>\n",
       "      <th>15</th>\n",
       "      <td>Dis</td>\n",
       "    </tr>\n",
       "    <tr>\n",
       "      <th>16</th>\n",
       "      <td>DIS</td>\n",
       "    </tr>\n",
       "    <tr>\n",
       "      <th>17</th>\n",
       "      <td>Dispute</td>\n",
       "    </tr>\n",
       "    <tr>\n",
       "      <th>18</th>\n",
       "      <td>NA</td>\n",
       "    </tr>\n",
       "    <tr>\n",
       "      <th>19</th>\n",
       "      <td>No</td>\n",
       "    </tr>\n",
       "    <tr>\n",
       "      <th>20</th>\n",
       "      <td>No Charge</td>\n",
       "    </tr>\n",
       "    <tr>\n",
       "      <th>21</th>\n",
       "      <td>NOC</td>\n",
       "    </tr>\n",
       "    <tr>\n",
       "      <th>22</th>\n",
       "      <td>UNK</td>\n",
       "    </tr>\n",
       "  </tbody>\n",
       "</table>\n",
       "</div>"
      ],
      "text/plain": [
       "   payment_type\n",
       "0             1\n",
       "1             2\n",
       "2             3\n",
       "3             4\n",
       "4             5\n",
       "5           CAS\n",
       "6           Cas\n",
       "7          CASH\n",
       "8          Cash\n",
       "9           CRD\n",
       "10          CRE\n",
       "11          Cre\n",
       "12       Credit\n",
       "13       CREDIT\n",
       "14          CSH\n",
       "15          Dis\n",
       "16          DIS\n",
       "17      Dispute\n",
       "18           NA\n",
       "19           No\n",
       "20    No Charge\n",
       "21          NOC\n",
       "22          UNK"
      ]
     },
     "execution_count": 270,
     "metadata": {},
     "output_type": "execute_result"
    }
   ],
   "source": [
    "%%bigquery\n",
    "\n",
    "SELECT payment_type \n",
    "       \n",
    "FROM   (SELECT payment_type\n",
    "        FROM   `bigquery-public-data.new_york.tlc_yellow_trips_2009`\n",
    "        \n",
    "        UNION DISTINCT\n",
    "        \n",
    "        SELECT payment_type\n",
    "        FROM   `bigquery-public-data.new_york.tlc_yellow_trips_2010`\n",
    "        \n",
    "        UNION DISTINCT\n",
    "        \n",
    "        SELECT payment_type\n",
    "        FROM   `bigquery-public-data.new_york.tlc_yellow_trips_2011`\n",
    "        \n",
    "        UNION DISTINCT\n",
    "        \n",
    "        SELECT payment_type\n",
    "        FROM   `bigquery-public-data.new_york.tlc_yellow_trips_2012`\n",
    "        \n",
    "        UNION DISTINCT\n",
    "        \n",
    "        SELECT payment_type\n",
    "        FROM   `bigquery-public-data.new_york.tlc_yellow_trips_2013`\n",
    "        \n",
    "        UNION DISTINCT\n",
    "        \n",
    "        SELECT payment_type\n",
    "        FROM   `bigquery-public-data.new_york.tlc_yellow_trips_2014`\n",
    "        \n",
    "        UNION DISTINCT\n",
    "        \n",
    "        SELECT payment_type\n",
    "        FROM   `bigquery-public-data.new_york.tlc_yellow_trips_2015`\n",
    "        \n",
    "        UNION DISTINCT\n",
    "        \n",
    "        SELECT payment_type\n",
    "        FROM   `bigquery-public-data.new_york.tlc_yellow_trips_2016`\n",
    "        \n",
    "        UNION DISTINCT\n",
    "        \n",
    "        SELECT payment_type\n",
    "        FROM   `bigquery-public-data.new_york_taxi_trips.tlc_yellow_trips_2017`\n",
    "        \n",
    "        UNION DISTINCT\n",
    "        \n",
    "        SELECT payment_type\n",
    "        FROM   `bigquery-public-data.new_york_taxi_trips.tlc_yellow_trips_2018`\n",
    "        )\n",
    "        \n",
    "ORDER  BY LOWER(payment_type)"
   ]
  },
  {
   "cell_type": "markdown",
   "metadata": {},
   "source": [
    "We need to do some gentle data cleaning since card and cash payments are specified in several ways, both across and within the individual datasets. The table schema informs that \"1\" signifies credit card payment and \"2\" signifies cash payment. \n",
    "\n",
    "I've chosen a simple approach of grouping the data by years, instead of a higher resolution of quarterly, monthly or even weekly grouping. This will be good enough for our aim of viewing the general development of card vs. cash payment over time. "
   ]
  },
  {
   "cell_type": "code",
   "execution_count": 85,
   "metadata": {},
   "outputs": [
    {
     "data": {
      "text/html": [
       "<div>\n",
       "<style scoped>\n",
       "    .dataframe tbody tr th:only-of-type {\n",
       "        vertical-align: middle;\n",
       "    }\n",
       "\n",
       "    .dataframe tbody tr th {\n",
       "        vertical-align: top;\n",
       "    }\n",
       "\n",
       "    .dataframe thead th {\n",
       "        text-align: right;\n",
       "    }\n",
       "</style>\n",
       "<table border=\"1\" class=\"dataframe\">\n",
       "  <thead>\n",
       "    <tr style=\"text-align: right;\">\n",
       "      <th></th>\n",
       "      <th>year</th>\n",
       "      <th>card</th>\n",
       "      <th>cash</th>\n",
       "    </tr>\n",
       "  </thead>\n",
       "  <tbody>\n",
       "    <tr>\n",
       "      <th>0</th>\n",
       "      <td>2009</td>\n",
       "      <td>44891981</td>\n",
       "      <td>125400096</td>\n",
       "    </tr>\n",
       "    <tr>\n",
       "      <th>1</th>\n",
       "      <td>2010</td>\n",
       "      <td>61615664</td>\n",
       "      <td>107056564</td>\n",
       "    </tr>\n",
       "    <tr>\n",
       "      <th>2</th>\n",
       "      <td>2011</td>\n",
       "      <td>76320383</td>\n",
       "      <td>100576816</td>\n",
       "    </tr>\n",
       "    <tr>\n",
       "      <th>3</th>\n",
       "      <td>2012</td>\n",
       "      <td>86157354</td>\n",
       "      <td>91904363</td>\n",
       "    </tr>\n",
       "    <tr>\n",
       "      <th>4</th>\n",
       "      <td>2013</td>\n",
       "      <td>93334004</td>\n",
       "      <td>79110096</td>\n",
       "    </tr>\n",
       "    <tr>\n",
       "      <th>5</th>\n",
       "      <td>2014</td>\n",
       "      <td>95571321</td>\n",
       "      <td>68167680</td>\n",
       "    </tr>\n",
       "    <tr>\n",
       "      <th>6</th>\n",
       "      <td>2015</td>\n",
       "      <td>91574644</td>\n",
       "      <td>53864648</td>\n",
       "    </tr>\n",
       "    <tr>\n",
       "      <th>7</th>\n",
       "      <td>2016</td>\n",
       "      <td>86187728</td>\n",
       "      <td>44241313</td>\n",
       "    </tr>\n",
       "    <tr>\n",
       "      <th>8</th>\n",
       "      <td>2017</td>\n",
       "      <td>76244327</td>\n",
       "      <td>36479462</td>\n",
       "    </tr>\n",
       "    <tr>\n",
       "      <th>9</th>\n",
       "      <td>2018</td>\n",
       "      <td>44129396</td>\n",
       "      <td>18799613</td>\n",
       "    </tr>\n",
       "  </tbody>\n",
       "</table>\n",
       "</div>"
      ],
      "text/plain": [
       "   year      card       cash\n",
       "0  2009  44891981  125400096\n",
       "1  2010  61615664  107056564\n",
       "2  2011  76320383  100576816\n",
       "3  2012  86157354   91904363\n",
       "4  2013  93334004   79110096\n",
       "5  2014  95571321   68167680\n",
       "6  2015  91574644   53864648\n",
       "7  2016  86187728   44241313\n",
       "8  2017  76244327   36479462\n",
       "9  2018  44129396   18799613"
      ]
     },
     "execution_count": 85,
     "metadata": {},
     "output_type": "execute_result"
    }
   ],
   "source": [
    "%%bigquery payments\n",
    "\n",
    "SELECT year,\n",
    "       COUNT(CASE\n",
    "             WHEN LOWER(payment_type) IN ('credit', 'crd', 'cre', '1') THEN 1\n",
    "             END) AS card,\n",
    "       COUNT(CASE\n",
    "             WHEN LOWER(payment_type) IN ('cash', 'csh', 'cas', '2') THEN 1\n",
    "             END) AS cash\n",
    "       \n",
    "FROM   (SELECT 2009 AS year,\n",
    "               payment_type\n",
    "        FROM   `bigquery-public-data.new_york.tlc_yellow_trips_2009`\n",
    "        \n",
    "        UNION ALL\n",
    "        \n",
    "        SELECT 2010 AS year,\n",
    "               payment_type\n",
    "        FROM   `bigquery-public-data.new_york.tlc_yellow_trips_2010`\n",
    "        \n",
    "        UNION ALL\n",
    "        \n",
    "        SELECT 2011 AS year,\n",
    "               payment_type\n",
    "        FROM   `bigquery-public-data.new_york.tlc_yellow_trips_2011`\n",
    "        \n",
    "        UNION ALL\n",
    "        \n",
    "        SELECT 2012 AS year,\n",
    "               payment_type\n",
    "        FROM   `bigquery-public-data.new_york.tlc_yellow_trips_2012`\n",
    "        \n",
    "        UNION ALL\n",
    "        \n",
    "        SELECT 2013 AS year,\n",
    "               payment_type\n",
    "        FROM   `bigquery-public-data.new_york.tlc_yellow_trips_2013`\n",
    "        \n",
    "        UNION ALL\n",
    "        \n",
    "        SELECT 2014 AS year,\n",
    "               payment_type\n",
    "        FROM   `bigquery-public-data.new_york.tlc_yellow_trips_2014`\n",
    "        \n",
    "        UNION ALL\n",
    "        \n",
    "        SELECT 2015 AS year,\n",
    "               payment_type\n",
    "        FROM   `bigquery-public-data.new_york.tlc_yellow_trips_2015`\n",
    "        \n",
    "        UNION ALL\n",
    "        \n",
    "        SELECT 2016 AS year,\n",
    "               payment_type\n",
    "        FROM   `bigquery-public-data.new_york.tlc_yellow_trips_2016`\n",
    "        \n",
    "        UNION ALL\n",
    "        \n",
    "        SELECT 2017 AS year,\n",
    "               payment_type\n",
    "        FROM   `bigquery-public-data.new_york_taxi_trips.tlc_yellow_trips_2017`\n",
    "        \n",
    "        UNION ALL\n",
    "        \n",
    "        SELECT 2018 AS year,\n",
    "               payment_type\n",
    "        FROM   `bigquery-public-data.new_york_taxi_trips.tlc_yellow_trips_2018`\n",
    "        )\n",
    "\n",
    "WHERE  LOWER(payment_type) IN ('credit', 'crd', 'cre', '1',\n",
    "                                 'cash', 'csh', 'cas', '2')\n",
    "GROUP  BY year\n",
    "ORDER  BY year"
   ]
  },
  {
   "cell_type": "markdown",
   "metadata": {},
   "source": [
    "Let's calculate the percentage of card payments per year:"
   ]
  },
  {
   "cell_type": "code",
   "execution_count": 224,
   "metadata": {},
   "outputs": [
    {
     "data": {
      "text/html": [
       "<div>\n",
       "<style scoped>\n",
       "    .dataframe tbody tr th:only-of-type {\n",
       "        vertical-align: middle;\n",
       "    }\n",
       "\n",
       "    .dataframe tbody tr th {\n",
       "        vertical-align: top;\n",
       "    }\n",
       "\n",
       "    .dataframe thead th {\n",
       "        text-align: right;\n",
       "    }\n",
       "</style>\n",
       "<table border=\"1\" class=\"dataframe\">\n",
       "  <thead>\n",
       "    <tr style=\"text-align: right;\">\n",
       "      <th></th>\n",
       "      <th>year</th>\n",
       "      <th>card</th>\n",
       "      <th>cash</th>\n",
       "      <th>card_%</th>\n",
       "    </tr>\n",
       "  </thead>\n",
       "  <tbody>\n",
       "    <tr>\n",
       "      <th>0</th>\n",
       "      <td>2009</td>\n",
       "      <td>44891981</td>\n",
       "      <td>125400096</td>\n",
       "      <td>26.361756</td>\n",
       "    </tr>\n",
       "    <tr>\n",
       "      <th>1</th>\n",
       "      <td>2010</td>\n",
       "      <td>61615664</td>\n",
       "      <td>107056564</td>\n",
       "      <td>36.529822</td>\n",
       "    </tr>\n",
       "    <tr>\n",
       "      <th>2</th>\n",
       "      <td>2011</td>\n",
       "      <td>76320383</td>\n",
       "      <td>100576816</td>\n",
       "      <td>43.143918</td>\n",
       "    </tr>\n",
       "    <tr>\n",
       "      <th>3</th>\n",
       "      <td>2012</td>\n",
       "      <td>86157354</td>\n",
       "      <td>91904363</td>\n",
       "      <td>48.386231</td>\n",
       "    </tr>\n",
       "    <tr>\n",
       "      <th>4</th>\n",
       "      <td>2013</td>\n",
       "      <td>93334004</td>\n",
       "      <td>79110096</td>\n",
       "      <td>54.124208</td>\n",
       "    </tr>\n",
       "    <tr>\n",
       "      <th>5</th>\n",
       "      <td>2014</td>\n",
       "      <td>95571321</td>\n",
       "      <td>68167680</td>\n",
       "      <td>58.368086</td>\n",
       "    </tr>\n",
       "    <tr>\n",
       "      <th>6</th>\n",
       "      <td>2015</td>\n",
       "      <td>91574644</td>\n",
       "      <td>53864648</td>\n",
       "      <td>62.964171</td>\n",
       "    </tr>\n",
       "    <tr>\n",
       "      <th>7</th>\n",
       "      <td>2016</td>\n",
       "      <td>86187728</td>\n",
       "      <td>44241313</td>\n",
       "      <td>66.080167</td>\n",
       "    </tr>\n",
       "    <tr>\n",
       "      <th>8</th>\n",
       "      <td>2017</td>\n",
       "      <td>76244327</td>\n",
       "      <td>36479462</td>\n",
       "      <td>67.638187</td>\n",
       "    </tr>\n",
       "    <tr>\n",
       "      <th>9</th>\n",
       "      <td>2018</td>\n",
       "      <td>44129396</td>\n",
       "      <td>18799613</td>\n",
       "      <td>70.125681</td>\n",
       "    </tr>\n",
       "  </tbody>\n",
       "</table>\n",
       "</div>"
      ],
      "text/plain": [
       "   year      card       cash     card_%\n",
       "0  2009  44891981  125400096  26.361756\n",
       "1  2010  61615664  107056564  36.529822\n",
       "2  2011  76320383  100576816  43.143918\n",
       "3  2012  86157354   91904363  48.386231\n",
       "4  2013  93334004   79110096  54.124208\n",
       "5  2014  95571321   68167680  58.368086\n",
       "6  2015  91574644   53864648  62.964171\n",
       "7  2016  86187728   44241313  66.080167\n",
       "8  2017  76244327   36479462  67.638187\n",
       "9  2018  44129396   18799613  70.125681"
      ]
     },
     "execution_count": 224,
     "metadata": {},
     "output_type": "execute_result"
    }
   ],
   "source": [
    "payments['card_%'] = 100 * payments['card'] / (payments['card'] + payments['cash'])\n",
    "payments"
   ]
  },
  {
   "cell_type": "markdown",
   "metadata": {},
   "source": [
    "We can visualize this development with a simple line chart."
   ]
  },
  {
   "cell_type": "code",
   "execution_count": 259,
   "metadata": {},
   "outputs": [
    {
     "data": {
      "image/png": "[encoded data removed]",
      "text/plain": [
       "<Figure size 1080x504 with 1 Axes>"
      ]
     },
     "metadata": {},
     "output_type": "display_data"
    }
   ],
   "source": [
    "ax = payments.plot(x='year', y='card_%', figsize=(15,7), legend=False, linewidth='3.5', \n",
    "                   xticks=(list(range(2009, 2019))), \n",
    "                   yticks=list(range(20, 75, 10)), ylim=([22,72]))\n",
    "ax.yaxis.set_major_formatter(matplotlib.ticker.PercentFormatter(decimals=False))\n",
    "ax.yaxis.set_minor_locator(matplotlib.ticker.MultipleLocator(5))\n",
    "ax.tick_params('x', labelsize='16', pad=9)\n",
    "ax.tick_params('y', labelsize='16', pad=2)\n",
    "\n",
    "ax.set_title('Credit Card vs. Cash Payments, NYC Yellow Taxis, 2009–2018', y=1.02, size=20)\n",
    "ax.set_xlabel('')\n",
    "ax.set_ylabel('% paying with credit card', labelpad=15, size=18);"
   ]
  },
  {
   "cell_type": "markdown",
   "metadata": {},
   "source": [
    "Payment by credit card surpassed cash in 2012, and has increased steadily from about a quarter of all payments in 2009 to 7 in 10 payments in 2018."
   ]
  },
  {
   "cell_type": "markdown",
   "metadata": {},
   "source": [
    "## 3. What is the most popular area to be picked up in 2014?  (disregarding airports)"
   ]
  },
  {
   "cell_type": "markdown",
   "metadata": {},
   "source": [
    "First, we need to get the coordinates of the trips made in 2014. The dataset provides latitudes and longitudes with a degree precision of more than 12 decimal places, an unnecessarily high precision, considering that this represents coordinates precise to micrometers and that GPS positioning in New York is challenging due to the tall skyscrapers. \n",
    "\n",
    "We are only interested in a ballpark estimate, not millimeter (or micrometer!) precision. I'm going to round off the precision of the latitudes and longitudes to three decimal places, in order to lump together the pickup locations which are reasonably close to one another. \n",
    "\n",
    "I'm also going to limit the query to the top 1,000 coordinates, since we are only interested in the most popular areas. "
   ]
  },
  {
   "cell_type": "code",
   "execution_count": 263,
   "metadata": {
    "scrolled": true
   },
   "outputs": [],
   "source": [
    "%%capture # To avoid cluttering the notebook with a long list\n",
    "%%bigquery trip_coordinates\n",
    "\n",
    "SELECT coordinates, COUNT(coordinates) as count\n",
    "FROM   (SELECT CONCAT(CAST(ROUND(pickup_latitude, 3) AS STRING), \n",
    "                      ',', \n",
    "                      CAST(ROUND(pickup_longitude, 3) AS STRING)) AS coordinates\n",
    "        FROM   `bigquery-public-data.new_york.tlc_yellow_trips_2014`)\n",
    "GROUP   BY coordinates\n",
    "ORDER   BY count DESC\n",
    "LIMIT   1000"
   ]
  },
  {
   "cell_type": "markdown",
   "metadata": {},
   "source": [
    "Let's take a peek at the results."
   ]
  },
  {
   "cell_type": "code",
   "execution_count": 264,
   "metadata": {
    "scrolled": false
   },
   "outputs": [
    {
     "data": {
      "text/html": [
       "<div>\n",
       "<style scoped>\n",
       "    .dataframe tbody tr th:only-of-type {\n",
       "        vertical-align: middle;\n",
       "    }\n",
       "\n",
       "    .dataframe tbody tr th {\n",
       "        vertical-align: top;\n",
       "    }\n",
       "\n",
       "    .dataframe thead th {\n",
       "        text-align: right;\n",
       "    }\n",
       "</style>\n",
       "<table border=\"1\" class=\"dataframe\">\n",
       "  <thead>\n",
       "    <tr style=\"text-align: right;\">\n",
       "      <th></th>\n",
       "      <th>coordinates</th>\n",
       "      <th>count</th>\n",
       "    </tr>\n",
       "  </thead>\n",
       "  <tbody>\n",
       "    <tr>\n",
       "      <th>0</th>\n",
       "      <td>0,0</td>\n",
       "      <td>3285189</td>\n",
       "    </tr>\n",
       "    <tr>\n",
       "      <th>1</th>\n",
       "      <td>40.751,-73.994</td>\n",
       "      <td>768879</td>\n",
       "    </tr>\n",
       "    <tr>\n",
       "      <th>2</th>\n",
       "      <td>40.75,-73.991</td>\n",
       "      <td>668680</td>\n",
       "    </tr>\n",
       "    <tr>\n",
       "      <th>3</th>\n",
       "      <td>40.774,-73.871</td>\n",
       "      <td>640367</td>\n",
       "    </tr>\n",
       "    <tr>\n",
       "      <th>4</th>\n",
       "      <td>40.75,-73.992</td>\n",
       "      <td>638670</td>\n",
       "    </tr>\n",
       "    <tr>\n",
       "      <th>5</th>\n",
       "      <td>40.645,-73.782</td>\n",
       "      <td>582516</td>\n",
       "    </tr>\n",
       "    <tr>\n",
       "      <th>6</th>\n",
       "      <td>40.769,-73.863</td>\n",
       "      <td>575531</td>\n",
       "    </tr>\n",
       "    <tr>\n",
       "      <th>7</th>\n",
       "      <td>40.774,-73.873</td>\n",
       "      <td>559239</td>\n",
       "    </tr>\n",
       "    <tr>\n",
       "      <th>8</th>\n",
       "      <td>40.757,-73.99</td>\n",
       "      <td>442105</td>\n",
       "    </tr>\n",
       "    <tr>\n",
       "      <th>9</th>\n",
       "      <td>40.756,-73.991</td>\n",
       "      <td>408523</td>\n",
       "    </tr>\n",
       "  </tbody>\n",
       "</table>\n",
       "</div>"
      ],
      "text/plain": [
       "      coordinates    count\n",
       "0             0,0  3285189\n",
       "1  40.751,-73.994   768879\n",
       "2   40.75,-73.991   668680\n",
       "3  40.774,-73.871   640367\n",
       "4   40.75,-73.992   638670\n",
       "5  40.645,-73.782   582516\n",
       "6  40.769,-73.863   575531\n",
       "7  40.774,-73.873   559239\n",
       "8   40.757,-73.99   442105\n",
       "9  40.756,-73.991   408523"
      ]
     },
     "execution_count": 264,
     "metadata": {},
     "output_type": "execute_result"
    }
   ],
   "source": [
    "trip_coordinates.head(10)"
   ]
  },
  {
   "cell_type": "markdown",
   "metadata": {},
   "source": [
    "Apparently a good portion of the trips do not have a pickup location recorded. We'll discard that first row. The rest of the table remains fairly cryptic without looking up each individual coordinate. To get a good feel for the data, we'll create a heatmap.\n",
    "\n",
    "First, we'll simply extract the latitudes and longitudes to two separate columns:"
   ]
  },
  {
   "cell_type": "code",
   "execution_count": 265,
   "metadata": {},
   "outputs": [],
   "source": [
    "coordinates = trip_coordinates['coordinates'].str.split(',', n=1, expand=True)\n",
    "trip_coordinates['lat'] = coordinates[0].astype('float')\n",
    "trip_coordinates['lon'] = coordinates[1].astype('float')\n",
    "trip_coordinates = trip_coordinates[1:] # Skip first row "
   ]
  },
  {
   "cell_type": "markdown",
   "metadata": {},
   "source": [
    "And now we're ready to have a look at the most popular pickup locations."
   ]
  },
  {
   "cell_type": "code",
   "execution_count": 26,
   "metadata": {},
   "outputs": [],
   "source": [
    "import gmaps\n",
    "API_KEY = 'AIza...''\n",
    "gmaps.configure(api_key=API_KEY)"
   ]
  },
  {
   "cell_type": "code",
   "execution_count": 269,
   "metadata": {},
   "outputs": [],
   "source": [
    "locations = trip_coordinates[['lat', 'lon']]\n",
    "weights = trip_coordinates['count']\n",
    "fig = gmaps.figure(map_type='HYBRID', zoom_level=11, center=(40.72, -73.92))\n",
    "fig.add_layer(gmaps.heatmap_layer(locations, weights=weights))\n",
    "# Map not interactive in published notebook"
   ]
  },
  {
   "cell_type": "markdown",
   "metadata": {},
   "source": [
    "![New York](map-0.png)"
   ]
  },
  {
   "cell_type": "markdown",
   "metadata": {},
   "source": [
    "Clearly the airports and Manhattan have the most pickups. Zooming in on Manhattan shows that **Midtown is the most popular area**. \n",
    "\n",
    "<img src=\"manhattan.png\" align=\"left\" />"
   ]
  },
  {
   "cell_type": "markdown",
   "metadata": {},
   "source": [
    "However, can we get even more specific? Let's limit our view to the top 20 pickup locations to get a clearer picture of what the most popular pickup locations in Midtown are."
   ]
  },
  {
   "cell_type": "code",
   "execution_count": 268,
   "metadata": {
    "scrolled": false
   },
   "outputs": [],
   "source": [
    "locations = trip_coordinates[['lat', 'lon']][:20]\n",
    "weights = trip_coordinates['count'][:20]\n",
    "fig = gmaps.figure(map_type='SATELLITE', zoom_level=13, center=(40.753, -73.99))\n",
    "fig.add_layer(gmaps.heatmap_layer(locations, weights=weights))\n",
    "# Map not interactive in published notebook"
   ]
  },
  {
   "cell_type": "markdown",
   "metadata": {},
   "source": [
    "![Manhattan](map-1.png)"
   ]
  },
  {
   "cell_type": "markdown",
   "metadata": {},
   "source": [
    "And there we have it. The most popular pickup locations in Midtown are, not surprisingly, the main public transportation terminals:\n",
    "\n",
    "* **Pennsylvania Station**\n",
    "* **Grand Central Terminal**\n",
    "* **42 St - Port Authority Bus Terminal**\n",
    "\n",
    "Two areas outside of Midtown and the airports are included in the top 20 locations – the Central Park entrance at  Columbus Circle and the hip and trendy Meatpacking District. If we further limit the view to the top 10 locations, these are no longer included."
   ]
  }
 ],
 "metadata": {
  "_draft": {
   "nbviewer_url": "https://gist.github.com/64ae0330ecfbb5caf5287be971f5c243"
  },
  "gist": {
   "data": {
    "description": "Application Work Sample, Unacast Summer Internship 2019",
    "public": true
   },
   "id": "64ae0330ecfbb5caf5287be971f5c243"
  },
  "kernelspec": {
   "display_name": "Python 3",
   "language": "python",
   "name": "python3"
  },
  "language_info": {
   "codemirror_mode": {
    "name": "ipython",
    "version": 3
   },
   "file_extension": ".py",
   "mimetype": "text/x-python",
   "name": "python",
   "nbconvert_exporter": "python",
   "pygments_lexer": "ipython3",
   "version": "3.6.5"
  }
 },
 "nbformat": 4,
 "nbformat_minor": 2
}
